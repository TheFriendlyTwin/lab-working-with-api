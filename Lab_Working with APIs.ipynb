{
 "cells": [
  {
   "cell_type": "markdown",
   "id": "1b6f1e50",
   "metadata": {},
   "source": [
    "# Lab | Working with APIs"
   ]
  },
  {
   "cell_type": "markdown",
   "id": "19da93e1",
   "metadata": {},
   "source": [
    "### Instructions"
   ]
  },
  {
   "cell_type": "markdown",
   "id": "9bb6cf5c",
   "metadata": {},
   "source": [
    "---------------------------------------------------------------------------------------------\n",
    "Following the class example, create a function that returns other flight relevant information.\n",
    "\n",
    "-----------------------------------------------------------------------------------------------"
   ]
  },
  {
   "cell_type": "markdown",
   "id": "97903a9b",
   "metadata": {},
   "source": [
    "#### 1. Airport API - GET Search airports by free text"
   ]
  },
  {
   "cell_type": "markdown",
   "id": "a5808621",
   "metadata": {},
   "source": [
    "------------------------------------------------------------------------------------------------\n",
    "Gets the list of airports with ICAO or IATA code matching the search term case-insensitively and airports with airport or city name containing the search term case-insensitively.\n",
    "\n",
    "-------------------------------------------------------------------------------------------"
   ]
  },
  {
   "cell_type": "code",
   "execution_count": 1,
   "id": "1467e9b6",
   "metadata": {},
   "outputs": [
    {
     "data": {
      "text/plain": [
       "{'searchBy': 'luxembourg',\n",
       " 'count': 1,\n",
       " 'items': [{'icao': 'ELLX',\n",
       "   'iata': 'LUX',\n",
       "   'name': 'Luxembourg -Findel',\n",
       "   'shortName': '-Findel',\n",
       "   'municipalityName': 'Luxembourg',\n",
       "   'location': {'lat': 49.6266, 'lon': 6.21152},\n",
       "   'countryCode': 'LU'}]}"
      ]
     },
     "execution_count": 1,
     "metadata": {},
     "output_type": "execute_result"
    }
   ],
   "source": [
    "import requests\n",
    "\n",
    "# Search airports by free text\n",
    "url = \"https://aerodatabox.p.rapidapi.com/airports/search/term\"\n",
    "\n",
    "querystring = {\"q\":\"luxembourg\",\"limit\":\"10\"}\n",
    "\n",
    "headers = {\n",
    "    'x-rapidapi-host': \"aerodatabox.p.rapidapi.com\",\n",
    "    'x-rapidapi-key': \"9613ca6ca5msh62659872159916fp1a0a2cjsndd9a3e6ff324\"\n",
    "    }\n",
    "\n",
    "response = requests.get(url, headers=headers, params=querystring)\n",
    "\n",
    "result = response.json()\n",
    "result"
   ]
  },
  {
   "cell_type": "code",
   "execution_count": 2,
   "id": "261de434",
   "metadata": {},
   "outputs": [
    {
     "data": {
      "text/plain": [
       "[{'icao': 'ELLX',\n",
       "  'iata': 'LUX',\n",
       "  'name': 'Luxembourg -Findel',\n",
       "  'shortName': '-Findel',\n",
       "  'municipalityName': 'Luxembourg',\n",
       "  'location': {'lat': 49.6266, 'lon': 6.21152},\n",
       "  'countryCode': 'LU'}]"
      ]
     },
     "execution_count": 2,
     "metadata": {},
     "output_type": "execute_result"
    }
   ],
   "source": [
    "import pandas as pd\n",
    "\n",
    "# Normalize the response\n",
    "\n",
    "r_json = response.json()\n",
    "r_json['items']"
   ]
  },
  {
   "cell_type": "code",
   "execution_count": 3,
   "id": "8a76be5f",
   "metadata": {},
   "outputs": [
    {
     "data": {
      "text/html": [
       "<div>\n",
       "<style scoped>\n",
       "    .dataframe tbody tr th:only-of-type {\n",
       "        vertical-align: middle;\n",
       "    }\n",
       "\n",
       "    .dataframe tbody tr th {\n",
       "        vertical-align: top;\n",
       "    }\n",
       "\n",
       "    .dataframe thead th {\n",
       "        text-align: right;\n",
       "    }\n",
       "</style>\n",
       "<table border=\"1\" class=\"dataframe\">\n",
       "  <thead>\n",
       "    <tr style=\"text-align: right;\">\n",
       "      <th></th>\n",
       "      <th>icao</th>\n",
       "      <th>iata</th>\n",
       "      <th>name</th>\n",
       "      <th>shortName</th>\n",
       "      <th>municipalityName</th>\n",
       "      <th>countryCode</th>\n",
       "      <th>location.lat</th>\n",
       "      <th>location.lon</th>\n",
       "    </tr>\n",
       "  </thead>\n",
       "  <tbody>\n",
       "    <tr>\n",
       "      <th>0</th>\n",
       "      <td>ELLX</td>\n",
       "      <td>LUX</td>\n",
       "      <td>Luxembourg -Findel</td>\n",
       "      <td>-Findel</td>\n",
       "      <td>Luxembourg</td>\n",
       "      <td>LU</td>\n",
       "      <td>49.6266</td>\n",
       "      <td>6.21152</td>\n",
       "    </tr>\n",
       "  </tbody>\n",
       "</table>\n",
       "</div>"
      ],
      "text/plain": [
       "   icao iata                name shortName municipalityName countryCode  \\\n",
       "0  ELLX  LUX  Luxembourg -Findel   -Findel       Luxembourg          LU   \n",
       "\n",
       "   location.lat  location.lon  \n",
       "0       49.6266       6.21152  "
      ]
     },
     "execution_count": 3,
     "metadata": {},
     "output_type": "execute_result"
    }
   ],
   "source": [
    "pd.json_normalize(r_json['items'])"
   ]
  },
  {
   "cell_type": "code",
   "execution_count": 4,
   "id": "9c3f32aa",
   "metadata": {},
   "outputs": [
    {
     "data": {
      "text/plain": [
       "{'searchBy': 'berlin',\n",
       " 'count': 3,\n",
       " 'items': [{'icao': 'EDDB',\n",
       "   'iata': 'BER',\n",
       "   'name': 'Berlin Brandenburg',\n",
       "   'shortName': 'Brandenburg',\n",
       "   'municipalityName': 'Berlin',\n",
       "   'location': {'lat': 52.35139, 'lon': 13.493889},\n",
       "   'countryCode': 'DE'},\n",
       "  {'icao': 'EDDT',\n",
       "   'iata': 'TXL',\n",
       "   'name': 'Berlin -Tegel',\n",
       "   'shortName': '-Tegel',\n",
       "   'municipalityName': 'Berlin',\n",
       "   'location': {'lat': 52.5597, 'lon': 13.287699},\n",
       "   'countryCode': 'DE'},\n",
       "  {'icao': 'KBML',\n",
       "   'iata': 'BML',\n",
       "   'name': 'Berlin Regional',\n",
       "   'shortName': 'Regional',\n",
       "   'municipalityName': 'Berlin',\n",
       "   'location': {'lat': 44.5754, 'lon': -71.1759},\n",
       "   'countryCode': 'US'}]}"
      ]
     },
     "execution_count": 4,
     "metadata": {},
     "output_type": "execute_result"
    }
   ],
   "source": [
    "querystring = {\"q\":\"berlin\",\"limit\":\"10\"}\n",
    "\n",
    "response = requests.request(\"GET\", url, headers=headers, params=querystring)\n",
    "items = response.json()\n",
    "items"
   ]
  },
  {
   "cell_type": "code",
   "execution_count": 5,
   "id": "5c8c169d",
   "metadata": {},
   "outputs": [
    {
     "data": {
      "text/plain": [
       "'LU'"
      ]
     },
     "execution_count": 5,
     "metadata": {},
     "output_type": "execute_result"
    }
   ],
   "source": [
    "result[\"items\"][0][\"countryCode\"]"
   ]
  },
  {
   "cell_type": "code",
   "execution_count": 6,
   "id": "50463ae5",
   "metadata": {},
   "outputs": [
    {
     "data": {
      "text/html": [
       "<div>\n",
       "<style scoped>\n",
       "    .dataframe tbody tr th:only-of-type {\n",
       "        vertical-align: middle;\n",
       "    }\n",
       "\n",
       "    .dataframe tbody tr th {\n",
       "        vertical-align: top;\n",
       "    }\n",
       "\n",
       "    .dataframe thead th {\n",
       "        text-align: right;\n",
       "    }\n",
       "</style>\n",
       "<table border=\"1\" class=\"dataframe\">\n",
       "  <thead>\n",
       "    <tr style=\"text-align: right;\">\n",
       "      <th></th>\n",
       "      <th>icao</th>\n",
       "      <th>iata</th>\n",
       "      <th>name</th>\n",
       "      <th>shortName</th>\n",
       "      <th>municipalityName</th>\n",
       "      <th>countryCode</th>\n",
       "      <th>location.lat</th>\n",
       "      <th>location.lon</th>\n",
       "    </tr>\n",
       "  </thead>\n",
       "  <tbody>\n",
       "    <tr>\n",
       "      <th>0</th>\n",
       "      <td>EDDB</td>\n",
       "      <td>BER</td>\n",
       "      <td>Berlin Brandenburg</td>\n",
       "      <td>Brandenburg</td>\n",
       "      <td>Berlin</td>\n",
       "      <td>DE</td>\n",
       "      <td>52.35139</td>\n",
       "      <td>13.493889</td>\n",
       "    </tr>\n",
       "    <tr>\n",
       "      <th>1</th>\n",
       "      <td>EDDT</td>\n",
       "      <td>TXL</td>\n",
       "      <td>Berlin -Tegel</td>\n",
       "      <td>-Tegel</td>\n",
       "      <td>Berlin</td>\n",
       "      <td>DE</td>\n",
       "      <td>52.55970</td>\n",
       "      <td>13.287699</td>\n",
       "    </tr>\n",
       "    <tr>\n",
       "      <th>2</th>\n",
       "      <td>KBML</td>\n",
       "      <td>BML</td>\n",
       "      <td>Berlin Regional</td>\n",
       "      <td>Regional</td>\n",
       "      <td>Berlin</td>\n",
       "      <td>US</td>\n",
       "      <td>44.57540</td>\n",
       "      <td>-71.175900</td>\n",
       "    </tr>\n",
       "  </tbody>\n",
       "</table>\n",
       "</div>"
      ],
      "text/plain": [
       "   icao iata                name    shortName municipalityName countryCode  \\\n",
       "0  EDDB  BER  Berlin Brandenburg  Brandenburg           Berlin          DE   \n",
       "1  EDDT  TXL       Berlin -Tegel       -Tegel           Berlin          DE   \n",
       "2  KBML  BML     Berlin Regional     Regional           Berlin          US   \n",
       "\n",
       "   location.lat  location.lon  \n",
       "0      52.35139     13.493889  \n",
       "1      52.55970     13.287699  \n",
       "2      44.57540    -71.175900  "
      ]
     },
     "execution_count": 6,
     "metadata": {},
     "output_type": "execute_result"
    }
   ],
   "source": [
    "pd.json_normalize(items['items'])"
   ]
  },
  {
   "cell_type": "markdown",
   "id": "8e64976c",
   "metadata": {},
   "source": [
    "#### 2. Miscellaneous API - GET Distance / Flight time between airport"
   ]
  },
  {
   "cell_type": "markdown",
   "id": "be80ef2d",
   "metadata": {},
   "source": [
    "---------------------------------------------------------------------------\n",
    "What is distance between airports? And What is approximate flight time between airports?\n",
    "\n",
    "Returns: Distance and approximate flight time between airports, if both airports found.\n",
    "\n",
    "------------------------------------------------------------------------------"
   ]
  },
  {
   "cell_type": "code",
   "execution_count": 7,
   "id": "fdf04bc9",
   "metadata": {},
   "outputs": [
    {
     "name": "stdout",
     "output_type": "stream",
     "text": [
      "{'from': {'icao': 'LPPT', 'iata': 'LIS', 'name': 'Lisbon Portela', 'shortName': 'Portela', 'municipalityName': 'Lisbon', 'location': {'lat': 38.7813, 'lon': -9.135919}, 'countryCode': 'PT'}, 'to': {'icao': 'EDDB', 'iata': 'BER', 'name': 'Berlin Brandenburg', 'shortName': 'Brandenburg', 'municipalityName': 'Berlin', 'location': {'lat': 52.35139, 'lon': 13.493889}, 'countryCode': 'DE'}, 'greatCircleDistance': {'meter': 2305328.27, 'km': 2305.33, 'mile': 1432.46, 'nm': 1244.78, 'feet': 7563412.96}, 'approxFlightTime': '02:55:00'}\n"
     ]
    }
   ],
   "source": [
    "# first we needed to get the icao codes, now we can look for time and distance of flights\n",
    "icao_from = 'LPPT'\n",
    "icao_to = 'EDDB'\n",
    "\n",
    "url = f\"https://aerodatabox.p.rapidapi.com/airports/icao/{icao_from}/distance-time/{icao_to}\"\n",
    "\n",
    "response = requests.get(url, headers=headers)\n",
    "\n",
    "print(response.json())"
   ]
  },
  {
   "cell_type": "code",
   "execution_count": 8,
   "id": "a5b24127",
   "metadata": {},
   "outputs": [
    {
     "data": {
      "text/plain": [
       "{'from': {'icao': 'LPPT',\n",
       "  'iata': 'LIS',\n",
       "  'name': 'Lisbon Portela',\n",
       "  'shortName': 'Portela',\n",
       "  'municipalityName': 'Lisbon',\n",
       "  'location': {'lat': 38.7813, 'lon': -9.135919},\n",
       "  'countryCode': 'PT'},\n",
       " 'to': {'icao': 'EDDB',\n",
       "  'iata': 'BER',\n",
       "  'name': 'Berlin Brandenburg',\n",
       "  'shortName': 'Brandenburg',\n",
       "  'municipalityName': 'Berlin',\n",
       "  'location': {'lat': 52.35139, 'lon': 13.493889},\n",
       "  'countryCode': 'DE'},\n",
       " 'greatCircleDistance': {'meter': 2305328.27,\n",
       "  'km': 2305.33,\n",
       "  'mile': 1432.46,\n",
       "  'nm': 1244.78,\n",
       "  'feet': 7563412.96},\n",
       " 'approxFlightTime': '02:55:00'}"
      ]
     },
     "execution_count": 8,
     "metadata": {},
     "output_type": "execute_result"
    }
   ],
   "source": [
    "result = response.json()\n",
    "result"
   ]
  },
  {
   "cell_type": "code",
   "execution_count": 9,
   "id": "468d76fc",
   "metadata": {},
   "outputs": [
    {
     "data": {
      "text/plain": [
       "'EDDB'"
      ]
     },
     "execution_count": 9,
     "metadata": {},
     "output_type": "execute_result"
    }
   ],
   "source": [
    "result['to']['icao']"
   ]
  },
  {
   "cell_type": "code",
   "execution_count": 10,
   "id": "f850db4c",
   "metadata": {},
   "outputs": [
    {
     "data": {
      "text/html": [
       "<div>\n",
       "<style scoped>\n",
       "    .dataframe tbody tr th:only-of-type {\n",
       "        vertical-align: middle;\n",
       "    }\n",
       "\n",
       "    .dataframe tbody tr th {\n",
       "        vertical-align: top;\n",
       "    }\n",
       "\n",
       "    .dataframe thead th {\n",
       "        text-align: right;\n",
       "    }\n",
       "</style>\n",
       "<table border=\"1\" class=\"dataframe\">\n",
       "  <thead>\n",
       "    <tr style=\"text-align: right;\">\n",
       "      <th></th>\n",
       "      <th>approxFlightTime</th>\n",
       "      <th>from.icao</th>\n",
       "      <th>from.iata</th>\n",
       "      <th>from.name</th>\n",
       "      <th>from.shortName</th>\n",
       "      <th>from.municipalityName</th>\n",
       "      <th>from.location.lat</th>\n",
       "      <th>from.location.lon</th>\n",
       "      <th>from.countryCode</th>\n",
       "      <th>to.icao</th>\n",
       "      <th>...</th>\n",
       "      <th>to.shortName</th>\n",
       "      <th>to.municipalityName</th>\n",
       "      <th>to.location.lat</th>\n",
       "      <th>to.location.lon</th>\n",
       "      <th>to.countryCode</th>\n",
       "      <th>greatCircleDistance.meter</th>\n",
       "      <th>greatCircleDistance.km</th>\n",
       "      <th>greatCircleDistance.mile</th>\n",
       "      <th>greatCircleDistance.nm</th>\n",
       "      <th>greatCircleDistance.feet</th>\n",
       "    </tr>\n",
       "  </thead>\n",
       "  <tbody>\n",
       "    <tr>\n",
       "      <th>0</th>\n",
       "      <td>02:55:00</td>\n",
       "      <td>LPPT</td>\n",
       "      <td>LIS</td>\n",
       "      <td>Lisbon Portela</td>\n",
       "      <td>Portela</td>\n",
       "      <td>Lisbon</td>\n",
       "      <td>38.7813</td>\n",
       "      <td>-9.135919</td>\n",
       "      <td>PT</td>\n",
       "      <td>EDDB</td>\n",
       "      <td>...</td>\n",
       "      <td>Brandenburg</td>\n",
       "      <td>Berlin</td>\n",
       "      <td>52.35139</td>\n",
       "      <td>13.493889</td>\n",
       "      <td>DE</td>\n",
       "      <td>2305328.27</td>\n",
       "      <td>2305.33</td>\n",
       "      <td>1432.46</td>\n",
       "      <td>1244.78</td>\n",
       "      <td>7563412.96</td>\n",
       "    </tr>\n",
       "  </tbody>\n",
       "</table>\n",
       "<p>1 rows × 22 columns</p>\n",
       "</div>"
      ],
      "text/plain": [
       "  approxFlightTime from.icao from.iata       from.name from.shortName  \\\n",
       "0         02:55:00      LPPT       LIS  Lisbon Portela        Portela   \n",
       "\n",
       "  from.municipalityName  from.location.lat  from.location.lon  \\\n",
       "0                Lisbon            38.7813          -9.135919   \n",
       "\n",
       "  from.countryCode to.icao  ... to.shortName to.municipalityName  \\\n",
       "0               PT    EDDB  ...  Brandenburg              Berlin   \n",
       "\n",
       "  to.location.lat to.location.lon  to.countryCode  greatCircleDistance.meter  \\\n",
       "0        52.35139       13.493889              DE                 2305328.27   \n",
       "\n",
       "  greatCircleDistance.km  greatCircleDistance.mile  greatCircleDistance.nm  \\\n",
       "0                2305.33                   1432.46                 1244.78   \n",
       "\n",
       "   greatCircleDistance.feet  \n",
       "0                7563412.96  \n",
       "\n",
       "[1 rows x 22 columns]"
      ]
     },
     "execution_count": 10,
     "metadata": {},
     "output_type": "execute_result"
    }
   ],
   "source": [
    "pd.json_normalize(response.json())"
   ]
  },
  {
   "cell_type": "markdown",
   "id": "c3a54b27",
   "metadata": {},
   "source": [
    "### Function that returns the time/distance between two airports"
   ]
  },
  {
   "cell_type": "code",
   "execution_count": 11,
   "id": "e0b946cc",
   "metadata": {},
   "outputs": [],
   "source": [
    "# headers won't change\n",
    "headers = {\n",
    "    'x-rapidapi-host': \"aerodatabox.p.rapidapi.com\",\n",
    "    'x-rapidapi-key': \"9613ca6ca5msh62659872159916fp1a0a2cjsndd9a3e6ff324\"\n",
    "    }\n",
    "\n",
    "\n",
    "def get_codes():\n",
    "\n",
    "    location = input('Insert location:')\n",
    "    print()\n",
    "\n",
    "    url = \"https://aerodatabox.p.rapidapi.com/airports/search/term\"\n",
    "    querystring = {\"q\":location.lower(), \"limit\":\"10\"}\n",
    "\n",
    "    response = requests.get(url, headers=headers, params=querystring)\n",
    "    codes = response.json()['items'] if 'items' in response.json() else location\n",
    "\n",
    "    return codes\n",
    "\n",
    "\n",
    "def choose_code():\n",
    "\n",
    "    codes = get_codes()\n",
    "\n",
    "    while type(codes) is str or len(set([code['shortName'] for code in codes])) != 1:\n",
    "\n",
    "        if not codes:\n",
    "            print('Try another location. Unable to find code for:', codes, '\\n')\n",
    "        else:\n",
    "            print('More than one location found. Insert one of the following airports:', [code['shortName'] for code in codes], '\\n')\n",
    "\n",
    "        codes = get_codes()\n",
    "\n",
    "    return codes[0]['icao']\n",
    "\n",
    "\n",
    "def flight_distance_time(from_, to_):\n",
    "    url = f\"https://aerodatabox.p.rapidapi.com/airports/icao/{from_}/distance-time/{to_}\"\n",
    "    response = requests.get(url, headers=headers)\n",
    "    return pd.json_normalize(response.json()).T"
   ]
  },
  {
   "cell_type": "code",
   "execution_count": 12,
   "id": "1d9497f9",
   "metadata": {},
   "outputs": [
    {
     "name": "stdout",
     "output_type": "stream",
     "text": [
      "[DEPARTURE]\n",
      "Insert location:Lisbon\n",
      "\n",
      "[DESTINATION]\n",
      "Insert location:Frankfurt\n",
      "\n",
      "More than one location found. Insert one of the following airports: ['Frankfurt-am-Main', 'Frankfurt-', 'Frankfurt-'] \n",
      "\n",
      "Insert location:Frankfurt-am-Main\n",
      "\n"
     ]
    },
    {
     "data": {
      "text/html": [
       "<div>\n",
       "<style scoped>\n",
       "    .dataframe tbody tr th:only-of-type {\n",
       "        vertical-align: middle;\n",
       "    }\n",
       "\n",
       "    .dataframe tbody tr th {\n",
       "        vertical-align: top;\n",
       "    }\n",
       "\n",
       "    .dataframe thead th {\n",
       "        text-align: right;\n",
       "    }\n",
       "</style>\n",
       "<table border=\"1\" class=\"dataframe\">\n",
       "  <thead>\n",
       "    <tr style=\"text-align: right;\">\n",
       "      <th></th>\n",
       "      <th>0</th>\n",
       "    </tr>\n",
       "  </thead>\n",
       "  <tbody>\n",
       "    <tr>\n",
       "      <th>approxFlightTime</th>\n",
       "      <td>02:25:00</td>\n",
       "    </tr>\n",
       "    <tr>\n",
       "      <th>from.icao</th>\n",
       "      <td>LPPT</td>\n",
       "    </tr>\n",
       "    <tr>\n",
       "      <th>from.iata</th>\n",
       "      <td>LIS</td>\n",
       "    </tr>\n",
       "    <tr>\n",
       "      <th>from.name</th>\n",
       "      <td>Lisbon Portela</td>\n",
       "    </tr>\n",
       "    <tr>\n",
       "      <th>from.shortName</th>\n",
       "      <td>Portela</td>\n",
       "    </tr>\n",
       "    <tr>\n",
       "      <th>from.municipalityName</th>\n",
       "      <td>Lisbon</td>\n",
       "    </tr>\n",
       "    <tr>\n",
       "      <th>from.location.lat</th>\n",
       "      <td>38.7813</td>\n",
       "    </tr>\n",
       "    <tr>\n",
       "      <th>from.location.lon</th>\n",
       "      <td>-9.135919</td>\n",
       "    </tr>\n",
       "    <tr>\n",
       "      <th>from.countryCode</th>\n",
       "      <td>PT</td>\n",
       "    </tr>\n",
       "    <tr>\n",
       "      <th>to.icao</th>\n",
       "      <td>EDDF</td>\n",
       "    </tr>\n",
       "    <tr>\n",
       "      <th>to.iata</th>\n",
       "      <td>FRA</td>\n",
       "    </tr>\n",
       "    <tr>\n",
       "      <th>to.name</th>\n",
       "      <td>Frankfurt-am-Main</td>\n",
       "    </tr>\n",
       "    <tr>\n",
       "      <th>to.shortName</th>\n",
       "      <td>Frankfurt-am-Main</td>\n",
       "    </tr>\n",
       "    <tr>\n",
       "      <th>to.municipalityName</th>\n",
       "      <td>Frankfurt-am-Main</td>\n",
       "    </tr>\n",
       "    <tr>\n",
       "      <th>to.location.lat</th>\n",
       "      <td>50.0264</td>\n",
       "    </tr>\n",
       "    <tr>\n",
       "      <th>to.location.lon</th>\n",
       "      <td>8.543129</td>\n",
       "    </tr>\n",
       "    <tr>\n",
       "      <th>to.countryCode</th>\n",
       "      <td>DE</td>\n",
       "    </tr>\n",
       "    <tr>\n",
       "      <th>greatCircleDistance.meter</th>\n",
       "      <td>1874098.84</td>\n",
       "    </tr>\n",
       "    <tr>\n",
       "      <th>greatCircleDistance.km</th>\n",
       "      <td>1874.1</td>\n",
       "    </tr>\n",
       "    <tr>\n",
       "      <th>greatCircleDistance.mile</th>\n",
       "      <td>1164.51</td>\n",
       "    </tr>\n",
       "    <tr>\n",
       "      <th>greatCircleDistance.nm</th>\n",
       "      <td>1011.93</td>\n",
       "    </tr>\n",
       "    <tr>\n",
       "      <th>greatCircleDistance.feet</th>\n",
       "      <td>6148618.25</td>\n",
       "    </tr>\n",
       "  </tbody>\n",
       "</table>\n",
       "</div>"
      ],
      "text/plain": [
       "                                            0\n",
       "approxFlightTime                     02:25:00\n",
       "from.icao                                LPPT\n",
       "from.iata                                 LIS\n",
       "from.name                      Lisbon Portela\n",
       "from.shortName                        Portela\n",
       "from.municipalityName                  Lisbon\n",
       "from.location.lat                     38.7813\n",
       "from.location.lon                   -9.135919\n",
       "from.countryCode                           PT\n",
       "to.icao                                  EDDF\n",
       "to.iata                                   FRA\n",
       "to.name                    Frankfurt-am-Main \n",
       "to.shortName                Frankfurt-am-Main\n",
       "to.municipalityName         Frankfurt-am-Main\n",
       "to.location.lat                       50.0264\n",
       "to.location.lon                      8.543129\n",
       "to.countryCode                             DE\n",
       "greatCircleDistance.meter          1874098.84\n",
       "greatCircleDistance.km                 1874.1\n",
       "greatCircleDistance.mile              1164.51\n",
       "greatCircleDistance.nm                1011.93\n",
       "greatCircleDistance.feet           6148618.25"
      ]
     },
     "execution_count": 12,
     "metadata": {},
     "output_type": "execute_result"
    }
   ],
   "source": [
    "print('[DEPARTURE]')\n",
    "from_ = choose_code()\n",
    "print('[DESTINATION]')\n",
    "to_ = choose_code()\n",
    "\n",
    "flight_df = flight_distance_time(from_, to_)\n",
    "flight_df"
   ]
  },
  {
   "cell_type": "markdown",
   "id": "8ef93d11",
   "metadata": {},
   "source": [
    "#### 3. Miscellaneous API - GET Current local time at the airport"
   ]
  },
  {
   "cell_type": "markdown",
   "id": "55d7f67a",
   "metadata": {},
   "source": [
    "------------------------------------------------------------------------------------------------\n",
    "What is the current local time at the airport?\n",
    "\n",
    "----------------------------------------------------------------------------------------------"
   ]
  },
  {
   "cell_type": "code",
   "execution_count": 13,
   "id": "f2b7cd49",
   "metadata": {},
   "outputs": [
    {
     "name": "stdout",
     "output_type": "stream",
     "text": [
      "{'time': {'utc': '2024-03-29 19:08Z', 'local': '2024-03-29 20:08+01:00'}, 'timeZoneId': 'Europe/Luxembourg'}\n"
     ]
    }
   ],
   "source": [
    "airport_code = 'ELLX'\n",
    "\n",
    "url = f\"https://aerodatabox.p.rapidapi.com/airports/icao/{airport_code}/time/local\"\n",
    "\n",
    "headers = {\n",
    "    \"X-RapidAPI-Key\": \"9613ca6ca5msh62659872159916fp1a0a2cjsndd9a3e6ff324\",\n",
    "    \"X-RapidAPI-Host\": \"aerodatabox.p.rapidapi.com\"\n",
    "}\n",
    "\n",
    "response = requests.get(url, headers=headers)\n",
    "\n",
    "print(response.json())\n",
    "#print(response.status_code)"
   ]
  },
  {
   "cell_type": "markdown",
   "id": "e0099878",
   "metadata": {},
   "source": [
    "#### 3. Miscellaneous API - GET Current local time at the airport"
   ]
  },
  {
   "cell_type": "markdown",
   "id": "9c40c642",
   "metadata": {},
   "source": [
    "------------------------------------------------------------------------------------------------\n",
    "What is the current weather at the airport?\n",
    "\n",
    "---------------------------------------------------------------------------------------------"
   ]
  },
  {
   "cell_type": "code",
   "execution_count": 19,
   "id": "68f50f69",
   "metadata": {},
   "outputs": [
    {
     "name": "stdout",
     "output_type": "stream",
     "text": [
      "[{'location': {'lat': 49.6266, 'lon': 6.21152}, 'airTemperature': {'c': 9.0, 'f': 48.0, 'k': 282.0}, 'dewPoint': {'c': 9.0, 'f': 48.0, 'k': 282.0}, 'pressure': {'hPa': 996.95, 'inHg': 29.44, 'mmHg': 747.77}, 'wind': {'speed': {'kt': 5.0, 'kmPerHour': 9.0, 'miPerHour': 6.0, 'meterPerSecond': 3.0}, 'direction': {'deg': 130.0, 'rad': 2.2689280275926285}}, 'visibility': {'meter': 5000.0, 'km': 5.0, 'mile': 3.11, 'nm': 2.7, 'feet': 16404.2}, 'report': 'ELLX 291850Z 13005KT 5000 BR SCT001 BKN003 09/09 Q0997 NOSIG', 'cloudBase': {'meter': 91.44, 'km': 0.09, 'mile': 0.06, 'nm': 0.05, 'feet': 300.0}, 'cloudCover': 'Broken', 'phenomenaGroups': ['AtmosphericObscurant'], 'validFrom': {'utc': '2024-03-29 19:00Z', 'local': '2024-03-29 20:00+01:00'}, 'validTo': {'utc': '2024-03-29 20:00Z', 'local': '2024-03-29 21:00+01:00'}}]\n"
     ]
    }
   ],
   "source": [
    "airport_code = 'ELLX'\n",
    "\n",
    "url = f\"https://aerodatabox.p.rapidapi.com/airports/icao/{airport_code}/weather\"\n",
    "\n",
    "headers = {\n",
    "    \"X-RapidAPI-Key\": \"9613ca6ca5msh62659872159916fp1a0a2cjsndd9a3e6ff324\",\n",
    "    \"X-RapidAPI-Host\": \"aerodatabox.p.rapidapi.com\"\n",
    "}\n",
    "\n",
    "response = requests.get(url, headers=headers)\n",
    "\n",
    "print(response.json())"
   ]
  },
  {
   "cell_type": "markdown",
   "id": "863b0857",
   "metadata": {},
   "source": [
    "#### Function that returns additional airport destination info"
   ]
  },
  {
   "cell_type": "code",
   "execution_count": 21,
   "id": "4d3f0227",
   "metadata": {},
   "outputs": [],
   "source": [
    "# headers won't change\n",
    "headers = {\n",
    "    'x-rapidapi-host': \"aerodatabox.p.rapidapi.com\",\n",
    "    'x-rapidapi-key': \"9613ca6ca5msh62659872159916fp1a0a2cjsndd9a3e6ff324\"\n",
    "    }\n",
    "\n",
    "\n",
    "def get_codes():\n",
    "\n",
    "    location = input('Insert location:')\n",
    "    print()\n",
    "\n",
    "    url = \"https://aerodatabox.p.rapidapi.com/airports/search/term\"\n",
    "    querystring = {\"q\":location.lower(), \"limit\":\"10\"}\n",
    "\n",
    "    response = requests.get(url, headers=headers, params=querystring)\n",
    "    codes = response.json()['items'] if 'items' in response.json() else location\n",
    "\n",
    "    return codes\n",
    "\n",
    "\n",
    "def choose_code():\n",
    "\n",
    "    codes = get_codes()\n",
    "\n",
    "    while type(codes) is str or len(set([code['shortName'] for code in codes])) != 1:\n",
    "\n",
    "        if not codes:\n",
    "            print('Try another location. Unable to find code for:', codes, '\\n')\n",
    "        else:\n",
    "            print('More than one location found. Insert one of the following airports:', [code['shortName'] for code in codes], '\\n')\n",
    "\n",
    "        codes = get_codes()\n",
    "\n",
    "    return codes[0]['icao']\n",
    "\n",
    "\n",
    "def to_local_current_time(from_, to_):\n",
    "    url = f\"https://aerodatabox.p.rapidapi.com/airports/icao/{from_}/distance-time/{to_}\"\n",
    "    response = requests.get(url, headers=headers)\n",
    "    \n",
    "    result = response.json()\n",
    "    airport_code = result['to']['icao']\n",
    "    \n",
    "    url = f\"https://aerodatabox.p.rapidapi.com/airports/icao/{airport_code}/time/local\"\n",
    "    \n",
    "    response = requests.get(url, headers=headers)\n",
    "    \n",
    "    return pd.json_normalize(response.json()).T\n",
    "\n",
    "def to_airport_weather(from_, to_):\n",
    "    url = f\"https://aerodatabox.p.rapidapi.com/airports/icao/{from_}/distance-time/{to_}\"\n",
    "    response = requests.get(url, headers=headers)\n",
    "    \n",
    "    result = response.json()\n",
    "    airport_code = result['to']['icao']\n",
    "    \n",
    "    url = f\"https://aerodatabox.p.rapidapi.com/airports/icao/{airport_code}/weather\"\n",
    "    \n",
    "    response = requests.get(url, headers=headers)\n",
    "    \n",
    "    return pd.json_normalize(response.json()).T"
   ]
  },
  {
   "cell_type": "code",
   "execution_count": 24,
   "id": "82c5a4a7",
   "metadata": {},
   "outputs": [
    {
     "name": "stdout",
     "output_type": "stream",
     "text": [
      "[DEPARTURE]\n",
      "Insert location:Lisbon\n",
      "\n",
      "[DESTINATION]\n",
      "Insert location:Frankfurt\n",
      "\n",
      "More than one location found. Insert one of the following airports: ['Frankfurt-am-Main', 'Frankfurt-', 'Frankfurt-'] \n",
      "\n",
      "Insert location:Frankfurt-am-Main\n",
      "\n"
     ]
    },
    {
     "data": {
      "text/html": [
       "<div>\n",
       "<style scoped>\n",
       "    .dataframe tbody tr th:only-of-type {\n",
       "        vertical-align: middle;\n",
       "    }\n",
       "\n",
       "    .dataframe tbody tr th {\n",
       "        vertical-align: top;\n",
       "    }\n",
       "\n",
       "    .dataframe thead th {\n",
       "        text-align: right;\n",
       "    }\n",
       "</style>\n",
       "<table border=\"1\" class=\"dataframe\">\n",
       "  <thead>\n",
       "    <tr style=\"text-align: right;\">\n",
       "      <th></th>\n",
       "      <th>0</th>\n",
       "    </tr>\n",
       "  </thead>\n",
       "  <tbody>\n",
       "    <tr>\n",
       "      <th>timeZoneId</th>\n",
       "      <td>Europe/Berlin</td>\n",
       "    </tr>\n",
       "    <tr>\n",
       "      <th>time.utc</th>\n",
       "      <td>2024-03-29 19:20Z</td>\n",
       "    </tr>\n",
       "    <tr>\n",
       "      <th>time.local</th>\n",
       "      <td>2024-03-29 20:20+01:00</td>\n",
       "    </tr>\n",
       "  </tbody>\n",
       "</table>\n",
       "</div>"
      ],
      "text/plain": [
       "                                 0\n",
       "timeZoneId           Europe/Berlin\n",
       "time.utc         2024-03-29 19:20Z\n",
       "time.local  2024-03-29 20:20+01:00"
      ]
     },
     "execution_count": 24,
     "metadata": {},
     "output_type": "execute_result"
    }
   ],
   "source": [
    "print('[DEPARTURE]')\n",
    "from_ = choose_code()\n",
    "print('[DESTINATION]')\n",
    "to_ = choose_code()\n",
    "\n",
    "airport_uct = to_local_current_time(from_, to_)\n",
    "airport_uct"
   ]
  },
  {
   "cell_type": "code",
   "execution_count": 25,
   "id": "ddf387de",
   "metadata": {},
   "outputs": [
    {
     "data": {
      "text/html": [
       "<div>\n",
       "<style scoped>\n",
       "    .dataframe tbody tr th:only-of-type {\n",
       "        vertical-align: middle;\n",
       "    }\n",
       "\n",
       "    .dataframe tbody tr th {\n",
       "        vertical-align: top;\n",
       "    }\n",
       "\n",
       "    .dataframe thead th {\n",
       "        text-align: right;\n",
       "    }\n",
       "</style>\n",
       "<table border=\"1\" class=\"dataframe\">\n",
       "  <thead>\n",
       "    <tr style=\"text-align: right;\">\n",
       "      <th></th>\n",
       "      <th>0</th>\n",
       "    </tr>\n",
       "  </thead>\n",
       "  <tbody>\n",
       "    <tr>\n",
       "      <th>report</th>\n",
       "      <td>EDDF 291850Z AUTO 01005KT CAVOK 10/09 Q0999 NOSIG</td>\n",
       "    </tr>\n",
       "    <tr>\n",
       "      <th>cloudCover</th>\n",
       "      <td>Clear</td>\n",
       "    </tr>\n",
       "    <tr>\n",
       "      <th>phenomenaGroups</th>\n",
       "      <td>[]</td>\n",
       "    </tr>\n",
       "    <tr>\n",
       "      <th>location.lat</th>\n",
       "      <td>50.0264</td>\n",
       "    </tr>\n",
       "    <tr>\n",
       "      <th>location.lon</th>\n",
       "      <td>8.543129</td>\n",
       "    </tr>\n",
       "    <tr>\n",
       "      <th>airTemperature.c</th>\n",
       "      <td>10.0</td>\n",
       "    </tr>\n",
       "    <tr>\n",
       "      <th>airTemperature.f</th>\n",
       "      <td>50.0</td>\n",
       "    </tr>\n",
       "    <tr>\n",
       "      <th>airTemperature.k</th>\n",
       "      <td>283.0</td>\n",
       "    </tr>\n",
       "    <tr>\n",
       "      <th>dewPoint.c</th>\n",
       "      <td>9.0</td>\n",
       "    </tr>\n",
       "    <tr>\n",
       "      <th>dewPoint.f</th>\n",
       "      <td>48.0</td>\n",
       "    </tr>\n",
       "    <tr>\n",
       "      <th>dewPoint.k</th>\n",
       "      <td>282.0</td>\n",
       "    </tr>\n",
       "    <tr>\n",
       "      <th>pressure.hPa</th>\n",
       "      <td>998.99</td>\n",
       "    </tr>\n",
       "    <tr>\n",
       "      <th>pressure.inHg</th>\n",
       "      <td>29.5</td>\n",
       "    </tr>\n",
       "    <tr>\n",
       "      <th>pressure.mmHg</th>\n",
       "      <td>749.3</td>\n",
       "    </tr>\n",
       "    <tr>\n",
       "      <th>wind.speed.kt</th>\n",
       "      <td>5.0</td>\n",
       "    </tr>\n",
       "    <tr>\n",
       "      <th>wind.speed.kmPerHour</th>\n",
       "      <td>9.0</td>\n",
       "    </tr>\n",
       "    <tr>\n",
       "      <th>wind.speed.miPerHour</th>\n",
       "      <td>6.0</td>\n",
       "    </tr>\n",
       "    <tr>\n",
       "      <th>wind.speed.meterPerSecond</th>\n",
       "      <td>3.0</td>\n",
       "    </tr>\n",
       "    <tr>\n",
       "      <th>wind.direction.deg</th>\n",
       "      <td>10.0</td>\n",
       "    </tr>\n",
       "    <tr>\n",
       "      <th>wind.direction.rad</th>\n",
       "      <td>0.174533</td>\n",
       "    </tr>\n",
       "    <tr>\n",
       "      <th>visibility.meter</th>\n",
       "      <td>9700.0</td>\n",
       "    </tr>\n",
       "    <tr>\n",
       "      <th>visibility.km</th>\n",
       "      <td>9.7</td>\n",
       "    </tr>\n",
       "    <tr>\n",
       "      <th>visibility.mile</th>\n",
       "      <td>6.03</td>\n",
       "    </tr>\n",
       "    <tr>\n",
       "      <th>visibility.nm</th>\n",
       "      <td>5.24</td>\n",
       "    </tr>\n",
       "    <tr>\n",
       "      <th>visibility.feet</th>\n",
       "      <td>31824.15</td>\n",
       "    </tr>\n",
       "    <tr>\n",
       "      <th>validFrom.utc</th>\n",
       "      <td>2024-03-29 19:00Z</td>\n",
       "    </tr>\n",
       "    <tr>\n",
       "      <th>validFrom.local</th>\n",
       "      <td>2024-03-29 20:00+01:00</td>\n",
       "    </tr>\n",
       "    <tr>\n",
       "      <th>validTo.utc</th>\n",
       "      <td>2024-03-29 20:00Z</td>\n",
       "    </tr>\n",
       "    <tr>\n",
       "      <th>validTo.local</th>\n",
       "      <td>2024-03-29 21:00+01:00</td>\n",
       "    </tr>\n",
       "  </tbody>\n",
       "</table>\n",
       "</div>"
      ],
      "text/plain": [
       "                                                                           0\n",
       "report                     EDDF 291850Z AUTO 01005KT CAVOK 10/09 Q0999 NOSIG\n",
       "cloudCover                                                             Clear\n",
       "phenomenaGroups                                                           []\n",
       "location.lat                                                         50.0264\n",
       "location.lon                                                        8.543129\n",
       "airTemperature.c                                                        10.0\n",
       "airTemperature.f                                                        50.0\n",
       "airTemperature.k                                                       283.0\n",
       "dewPoint.c                                                               9.0\n",
       "dewPoint.f                                                              48.0\n",
       "dewPoint.k                                                             282.0\n",
       "pressure.hPa                                                          998.99\n",
       "pressure.inHg                                                           29.5\n",
       "pressure.mmHg                                                          749.3\n",
       "wind.speed.kt                                                            5.0\n",
       "wind.speed.kmPerHour                                                     9.0\n",
       "wind.speed.miPerHour                                                     6.0\n",
       "wind.speed.meterPerSecond                                                3.0\n",
       "wind.direction.deg                                                      10.0\n",
       "wind.direction.rad                                                  0.174533\n",
       "visibility.meter                                                      9700.0\n",
       "visibility.km                                                            9.7\n",
       "visibility.mile                                                         6.03\n",
       "visibility.nm                                                           5.24\n",
       "visibility.feet                                                     31824.15\n",
       "validFrom.utc                                              2024-03-29 19:00Z\n",
       "validFrom.local                                       2024-03-29 20:00+01:00\n",
       "validTo.utc                                                2024-03-29 20:00Z\n",
       "validTo.local                                         2024-03-29 21:00+01:00"
      ]
     },
     "execution_count": 25,
     "metadata": {},
     "output_type": "execute_result"
    }
   ],
   "source": [
    "airport_weather = to_airport_weather(from_, to_)\n",
    "airport_weather"
   ]
  }
 ],
 "metadata": {
  "kernelspec": {
   "display_name": "Python 3 (ipykernel)",
   "language": "python",
   "name": "python3"
  },
  "language_info": {
   "codemirror_mode": {
    "name": "ipython",
    "version": 3
   },
   "file_extension": ".py",
   "mimetype": "text/x-python",
   "name": "python",
   "nbconvert_exporter": "python",
   "pygments_lexer": "ipython3",
   "version": "3.11.5"
  }
 },
 "nbformat": 4,
 "nbformat_minor": 5
}
